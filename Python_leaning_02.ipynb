{
 "cells": [
  {
   "cell_type": "code",
   "execution_count": 22,
   "id": "760fc3ea-68ed-47d3-ab0e-4f396b3db40f",
   "metadata": {},
   "outputs": [
    {
     "name": "stdout",
     "output_type": "stream",
     "text": [
      "<class 'pandas.core.frame.DataFrame'>\n",
      "RangeIndex: 9999 entries, 0 to 9998\n",
      "Data columns (total 15 columns):\n",
      " #   Column                Non-Null Count  Dtype  \n",
      "---  ------                --------------  -----  \n",
      " 0   title                 9999 non-null   object \n",
      " 1   budget                9999 non-null   int64  \n",
      " 2   genres                9999 non-null   object \n",
      " 3   original_language     9999 non-null   object \n",
      " 4   overview              9906 non-null   object \n",
      " 5   popularity            9999 non-null   float64\n",
      " 6   poster_path           9941 non-null   object \n",
      " 7   release_date          9978 non-null   object \n",
      " 8   revenue               9999 non-null   int64  \n",
      " 9   runtime               9999 non-null   int64  \n",
      " 10  spoken_languages      9999 non-null   object \n",
      " 11  vote_average          9999 non-null   float64\n",
      " 12  vote_count            9999 non-null   int64  \n",
      " 13  production_companies  9999 non-null   object \n",
      " 14  production_countries  9999 non-null   object \n",
      "dtypes: float64(2), int64(4), object(9)\n",
      "memory usage: 1.1+ MB\n"
     ]
    }
   ],
   "source": [
    "import pandas as pd\n",
    "df1 = pd.read_csv('C:/Users/Ankit/Desktop/popular_movies.csv')\n",
    "df1.info()\n"
   ]
  },
  {
   "cell_type": "code",
   "execution_count": 23,
   "id": "eaa6bbeb-f325-4bda-a90b-bbaf06a8636b",
   "metadata": {},
   "outputs": [
    {
     "data": {
      "text/plain": [
       "0       Plagued by a violent recurring nightmare, coll...\n",
       "1       The wildly funny and touching story of a lonel...\n",
       "2       What will be her last straw? A devastatingly b...\n",
       "3       After his life is turned upside down when his ...\n",
       "4       On the rugged isle of Berk, where Vikings and ...\n",
       "                              ...                        \n",
       "9994    In the wilderness of British Columbia, two hun...\n",
       "9995    Victoria, an intrepid Latina in a cartel world...\n",
       "9996    It's been suggested that Americans would be be...\n",
       "9997    Morioh, 1999—a normally quiet and peaceful tow...\n",
       "9998    On the eve of her 17th birthday, Mari and frie...\n",
       "Name: overview, Length: 9999, dtype: object"
      ]
     },
     "execution_count": 23,
     "metadata": {},
     "output_type": "execute_result"
    }
   ],
   "source": [
    "df1['overview']"
   ]
  },
  {
   "cell_type": "code",
   "execution_count": 6,
   "id": "8dc887ca-476f-40b6-a1a4-5139331e71ee",
   "metadata": {},
   "outputs": [],
   "source": [
    "from datasets import load_dataset"
   ]
  },
  {
   "cell_type": "code",
   "execution_count": 10,
   "id": "a964a66f-b71a-40fb-91f0-80362980f37f",
   "metadata": {},
   "outputs": [],
   "source": [
    "dataset =  load_dataset('lukebarousse/data_jobs')"
   ]
  },
  {
   "cell_type": "code",
   "execution_count": 33,
   "id": "d2b92d38-b2bd-4f11-91db-03c3e726924e",
   "metadata": {},
   "outputs": [
    {
     "name": "stdout",
     "output_type": "stream",
     "text": [
      "<class 'datasets.arrow_dataset.Dataset'>\n"
     ]
    }
   ],
   "source": [
    "# print(dataset['train'])\n",
    "print(type(dataset['train']))\n"
   ]
  },
  {
   "cell_type": "code",
   "execution_count": 39,
   "id": "56c31120-95e9-4c81-a37d-e9d81bb2adf1",
   "metadata": {},
   "outputs": [
    {
     "name": "stdout",
     "output_type": "stream",
     "text": [
      "<class 'pandas.core.frame.DataFrame'>\n",
      "RangeIndex: 9999 entries, 0 to 9998\n",
      "Data columns (total 15 columns):\n",
      " #   Column                Non-Null Count  Dtype  \n",
      "---  ------                --------------  -----  \n",
      " 0   title                 9999 non-null   object \n",
      " 1   budget                9999 non-null   int64  \n",
      " 2   genres                9999 non-null   object \n",
      " 3   original_language     9999 non-null   object \n",
      " 4   overview              9906 non-null   object \n",
      " 5   popularity            9999 non-null   float64\n",
      " 6   poster_path           9941 non-null   object \n",
      " 7   release_date          9978 non-null   object \n",
      " 8   revenue               9999 non-null   int64  \n",
      " 9   runtime               9999 non-null   int64  \n",
      " 10  spoken_languages      9999 non-null   object \n",
      " 11  vote_average          9999 non-null   float64\n",
      " 12  vote_count            9999 non-null   int64  \n",
      " 13  production_companies  9999 non-null   object \n",
      " 14  production_countries  9999 non-null   object \n",
      "dtypes: float64(2), int64(4), object(9)\n",
      "memory usage: 1.1+ MB\n"
     ]
    }
   ],
   "source": [
    "df.info()"
   ]
  }
 ],
 "metadata": {
  "kernelspec": {
   "display_name": "Python 3 (ipykernel)",
   "language": "python",
   "name": "python3"
  },
  "language_info": {
   "codemirror_mode": {
    "name": "ipython",
    "version": 3
   },
   "file_extension": ".py",
   "mimetype": "text/x-python",
   "name": "python",
   "nbconvert_exporter": "python",
   "pygments_lexer": "ipython3",
   "version": "3.11.5"
  }
 },
 "nbformat": 4,
 "nbformat_minor": 5
}
