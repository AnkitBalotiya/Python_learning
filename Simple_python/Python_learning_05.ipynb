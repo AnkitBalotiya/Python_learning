{
 "cells": [
  {
   "cell_type": "code",
   "execution_count": 2,
   "id": "63c4e4d9-23ed-4efd-abc0-b11a3b04cf15",
   "metadata": {},
   "outputs": [],
   "source": [
    "import pandas as pd\n",
    "from datasets import load_dataset\n",
    "dataset = load_dataset('lukebarousse/data_jobs')\n",
    "df = dataset['train'].to_pandas()"
   ]
  },
  {
   "cell_type": "code",
   "execution_count": 8,
   "id": "acfe11f6-160e-4840-8ff1-f928fae93d46",
   "metadata": {},
   "outputs": [
    {
     "name": "stdout",
     "output_type": "stream",
     "text": [
      "<class 'pandas.core.frame.DataFrame'>\n",
      "RangeIndex: 785741 entries, 0 to 785740\n",
      "Data columns (total 17 columns):\n",
      " #   Column                 Non-Null Count   Dtype         \n",
      "---  ------                 --------------   -----         \n",
      " 0   job_title_short        785741 non-null  object        \n",
      " 1   job_title              785740 non-null  object        \n",
      " 2   job_location           784696 non-null  object        \n",
      " 3   job_via                785733 non-null  object        \n",
      " 4   job_schedule_type      773074 non-null  object        \n",
      " 5   job_work_from_home     785741 non-null  bool          \n",
      " 6   search_location        785741 non-null  object        \n",
      " 7   job_posted_date        785741 non-null  datetime64[ns]\n",
      " 8   job_no_degree_mention  785741 non-null  bool          \n",
      " 9   job_health_insurance   785741 non-null  bool          \n",
      " 10  job_country            785692 non-null  object        \n",
      " 11  salary_rate            33067 non-null   object        \n",
      " 12  salary_year_avg        22003 non-null   float64       \n",
      " 13  salary_hour_avg        10662 non-null   float64       \n",
      " 14  company_name           785723 non-null  object        \n",
      " 15  job_skills             668704 non-null  object        \n",
      " 16  job_type_skills        668704 non-null  object        \n",
      "dtypes: bool(3), datetime64[ns](1), float64(2), object(11)\n",
      "memory usage: 86.2+ MB\n"
     ]
    }
   ],
   "source": [
    "df['job_posted_date'] = pd.to_datetime(df['job_posted_date'])\n",
    "df.info()"
   ]
  },
  {
   "cell_type": "code",
   "execution_count": 10,
   "id": "9fdc73d8-6a5f-425a-8882-c9dd0b5ea415",
   "metadata": {},
   "outputs": [
    {
     "data": {
      "text/html": [
       "<div>\n",
       "<style scoped>\n",
       "    .dataframe tbody tr th:only-of-type {\n",
       "        vertical-align: middle;\n",
       "    }\n",
       "\n",
       "    .dataframe tbody tr th {\n",
       "        vertical-align: top;\n",
       "    }\n",
       "\n",
       "    .dataframe thead th {\n",
       "        text-align: right;\n",
       "    }\n",
       "</style>\n",
       "<table border=\"1\" class=\"dataframe\">\n",
       "  <thead>\n",
       "    <tr style=\"text-align: right;\">\n",
       "      <th></th>\n",
       "      <th>job_posted_date</th>\n",
       "      <th>salary_year_avg</th>\n",
       "      <th>salary_hour_avg</th>\n",
       "    </tr>\n",
       "  </thead>\n",
       "  <tbody>\n",
       "    <tr>\n",
       "      <th>count</th>\n",
       "      <td>785741</td>\n",
       "      <td>22003.000000</td>\n",
       "      <td>10662.000000</td>\n",
       "    </tr>\n",
       "    <tr>\n",
       "      <th>mean</th>\n",
       "      <td>2023-06-25 16:02:11.860248576</td>\n",
       "      <td>123286.274072</td>\n",
       "      <td>47.016598</td>\n",
       "    </tr>\n",
       "    <tr>\n",
       "      <th>min</th>\n",
       "      <td>2023-01-01 00:00:04</td>\n",
       "      <td>15000.000000</td>\n",
       "      <td>8.000000</td>\n",
       "    </tr>\n",
       "    <tr>\n",
       "      <th>25%</th>\n",
       "      <td>2023-03-20 10:05:48</td>\n",
       "      <td>90000.000000</td>\n",
       "      <td>27.500000</td>\n",
       "    </tr>\n",
       "    <tr>\n",
       "      <th>50%</th>\n",
       "      <td>2023-06-29 06:11:38</td>\n",
       "      <td>115000.000000</td>\n",
       "      <td>45.980000</td>\n",
       "    </tr>\n",
       "    <tr>\n",
       "      <th>75%</th>\n",
       "      <td>2023-09-27 01:01:16</td>\n",
       "      <td>150000.000000</td>\n",
       "      <td>61.159996</td>\n",
       "    </tr>\n",
       "    <tr>\n",
       "      <th>max</th>\n",
       "      <td>2023-12-31 23:59:58</td>\n",
       "      <td>960000.000000</td>\n",
       "      <td>391.000000</td>\n",
       "    </tr>\n",
       "    <tr>\n",
       "      <th>std</th>\n",
       "      <td>NaN</td>\n",
       "      <td>48312.449482</td>\n",
       "      <td>21.890738</td>\n",
       "    </tr>\n",
       "  </tbody>\n",
       "</table>\n",
       "</div>"
      ],
      "text/plain": [
       "                     job_posted_date  salary_year_avg  salary_hour_avg\n",
       "count                         785741     22003.000000     10662.000000\n",
       "mean   2023-06-25 16:02:11.860248576    123286.274072        47.016598\n",
       "min              2023-01-01 00:00:04     15000.000000         8.000000\n",
       "25%              2023-03-20 10:05:48     90000.000000        27.500000\n",
       "50%              2023-06-29 06:11:38    115000.000000        45.980000\n",
       "75%              2023-09-27 01:01:16    150000.000000        61.159996\n",
       "max              2023-12-31 23:59:58    960000.000000       391.000000\n",
       "std                              NaN     48312.449482        21.890738"
      ]
     },
     "execution_count": 10,
     "metadata": {},
     "output_type": "execute_result"
    }
   ],
   "source": [
    "df.describe()"
   ]
  },
  {
   "cell_type": "code",
   "execution_count": 17,
   "id": "01aaa70c-03b1-4f8d-8332-543722cd70f0",
   "metadata": {},
   "outputs": [
    {
     "name": "stdout",
     "output_type": "stream",
     "text": [
      "job_title_short          785741\n",
      "job_title                785740\n",
      "job_location             784696\n",
      "job_via                  785733\n",
      "job_schedule_type        773074\n",
      "job_work_from_home       785741\n",
      "search_location          785741\n",
      "job_posted_date          785741\n",
      "job_no_degree_mention    785741\n",
      "job_health_insurance     785741\n",
      "job_country              785692\n",
      "salary_rate               33067\n",
      "salary_year_avg           22003\n",
      "salary_hour_avg           10662\n",
      "company_name             785723\n",
      "job_skills               668704\n",
      "job_type_skills          668704\n",
      "dtype: int64\n"
     ]
    },
    {
     "data": {
      "text/plain": [
       "10662"
      ]
     },
     "execution_count": 17,
     "metadata": {},
     "output_type": "execute_result"
    }
   ],
   "source": [
    "print(df.count())\n",
    "df['salary_hour_avg'].count()"
   ]
  },
  {
   "cell_type": "code",
   "execution_count": 27,
   "id": "73a429b9-e242-4ad8-9154-f53a0985c577",
   "metadata": {},
   "outputs": [
    {
     "data": {
      "text/plain": [
       "job_title_short                                           Data Scientist\n",
       "job_title                                                 Data Scientist\n",
       "job_location                                                 Madison, SD\n",
       "job_via                                    via Cooperative Career Center\n",
       "job_schedule_type                                              Full-time\n",
       "job_work_from_home                                                 False\n",
       "search_location                                  Illinois, United States\n",
       "job_posted_date                                      2023-05-04 19:06:06\n",
       "job_no_degree_mention                                              False\n",
       "job_health_insurance                                                True\n",
       "job_country                                                United States\n",
       "salary_rate                                                         year\n",
       "salary_year_avg                                                 960000.0\n",
       "salary_hour_avg                                                      NaN\n",
       "company_name                 East River Electric Power Cooperative, Inc.\n",
       "job_skills                                ['java', 'c++', 'python', 'r']\n",
       "job_type_skills          {'programming': ['java', 'c++', 'python', 'r']}\n",
       "Name: 554784, dtype: object"
      ]
     },
     "execution_count": 27,
     "metadata": {},
     "output_type": "execute_result"
    }
   ],
   "source": [
    "min_salary = df['salary_year_avg'].idxmax()\n",
    "df.iloc[min_salary]"
   ]
  },
  {
   "cell_type": "code",
   "execution_count": 36,
   "id": "5608854e-35ef-426d-aa65-c4f4ef51359a",
   "metadata": {},
   "outputs": [
    {
     "name": "stdout",
     "output_type": "stream",
     "text": [
      "['Senior Data Engineer' 'Data Analyst' 'Data Engineer' 'Business Analyst'\n",
      " 'Data Scientist' 'Machine Learning Engineer' 'Senior Data Analyst'\n",
      " 'Cloud Engineer' 'Senior Data Scientist' 'Software Engineer']\n"
     ]
    },
    {
     "data": {
      "text/plain": [
       "job_title_short\n",
       "Data Analyst                 196075\n",
       "Data Engineer                186241\n",
       "Data Scientist               172286\n",
       "Business Analyst              49063\n",
       "Software Engineer             44929\n",
       "Senior Data Engineer          44563\n",
       "Senior Data Scientist         36957\n",
       "Senior Data Analyst           29216\n",
       "Machine Learning Engineer     14080\n",
       "Cloud Engineer                12331\n",
       "Name: count, dtype: int64"
      ]
     },
     "execution_count": 36,
     "metadata": {},
     "output_type": "execute_result"
    }
   ],
   "source": [
    "print(df['job_title_short' ].unique()) # only provide undique values \n",
    "df['job_title_short' ].value_counts() ## please prefer this one , values + counts of repitationd"
   ]
  },
  {
   "cell_type": "code",
   "execution_count": 46,
   "id": "4182423e-3665-431f-adf6-5a40be60e2b0",
   "metadata": {},
   "outputs": [
    {
     "data": {
      "text/plain": [
       "job_title_short\n",
       "Business Analyst              85000.0\n",
       "Cloud Engineer                90000.0\n",
       "Data Analyst                  90000.0\n",
       "Data Engineer                125000.0\n",
       "Data Scientist               127500.0\n",
       "Machine Learning Engineer    106415.0\n",
       "Senior Data Analyst          111175.0\n",
       "Senior Data Engineer         147500.0\n",
       "Senior Data Scientist        155500.0\n",
       "Software Engineer             99150.0\n",
       "Name: salary_year_avg, dtype: float64"
      ]
     },
     "execution_count": 46,
     "metadata": {},
     "output_type": "execute_result"
    }
   ],
   "source": [
    "df.groupby('job_title_short')['salary_year_avg'].median()"
   ]
  },
  {
   "cell_type": "code",
   "execution_count": 54,
   "id": "e919c455-47f5-43da-a6f5-44e8f90faa5e",
   "metadata": {},
   "outputs": [
    {
     "data": {
      "text/plain": [
       "job_title_short    job_country\n",
       "Business Analyst   Afghanistan        NaN\n",
       "                   Albania            NaN\n",
       "                   Algeria            NaN\n",
       "                   Angola             NaN\n",
       "                   Argentina      71100.0\n",
       "                                   ...   \n",
       "Software Engineer  Venezuela          NaN\n",
       "                   Vietnam        53600.0\n",
       "                   Yemen              NaN\n",
       "                   Zambia             NaN\n",
       "                   Zimbabwe           NaN\n",
       "Name: salary_year_avg, Length: 1387, dtype: float64"
      ]
     },
     "execution_count": 54,
     "metadata": {},
     "output_type": "execute_result"
    }
   ],
   "source": [
    "df.groupby(['job_title_short','job_country'])['salary_year_avg'].median()"
   ]
  },
  {
   "cell_type": "code",
   "execution_count": 63,
   "id": "6e2ef3dc-c70c-4bb1-bdda-1893044f3896",
   "metadata": {},
   "outputs": [
    {
     "data": {
      "text/html": [
       "<div>\n",
       "<style scoped>\n",
       "    .dataframe tbody tr th:only-of-type {\n",
       "        vertical-align: middle;\n",
       "    }\n",
       "\n",
       "    .dataframe tbody tr th {\n",
       "        vertical-align: top;\n",
       "    }\n",
       "\n",
       "    .dataframe thead th {\n",
       "        text-align: right;\n",
       "    }\n",
       "</style>\n",
       "<table border=\"1\" class=\"dataframe\">\n",
       "  <thead>\n",
       "    <tr style=\"text-align: right;\">\n",
       "      <th></th>\n",
       "      <th>salary_year_avg</th>\n",
       "      <th>salary_hour_avg</th>\n",
       "    </tr>\n",
       "    <tr>\n",
       "      <th>job_title_short</th>\n",
       "      <th></th>\n",
       "      <th></th>\n",
       "    </tr>\n",
       "  </thead>\n",
       "  <tbody>\n",
       "    <tr>\n",
       "      <th>Business Analyst</th>\n",
       "      <td>85000.0</td>\n",
       "      <td>40.362499</td>\n",
       "    </tr>\n",
       "    <tr>\n",
       "      <th>Cloud Engineer</th>\n",
       "      <td>90000.0</td>\n",
       "      <td>40.000000</td>\n",
       "    </tr>\n",
       "    <tr>\n",
       "      <th>Data Analyst</th>\n",
       "      <td>90000.0</td>\n",
       "      <td>32.615002</td>\n",
       "    </tr>\n",
       "    <tr>\n",
       "      <th>Data Engineer</th>\n",
       "      <td>125000.0</td>\n",
       "      <td>58.500000</td>\n",
       "    </tr>\n",
       "    <tr>\n",
       "      <th>Data Scientist</th>\n",
       "      <td>127500.0</td>\n",
       "      <td>47.500000</td>\n",
       "    </tr>\n",
       "    <tr>\n",
       "      <th>Machine Learning Engineer</th>\n",
       "      <td>106415.0</td>\n",
       "      <td>47.535000</td>\n",
       "    </tr>\n",
       "    <tr>\n",
       "      <th>Senior Data Analyst</th>\n",
       "      <td>111175.0</td>\n",
       "      <td>47.500000</td>\n",
       "    </tr>\n",
       "    <tr>\n",
       "      <th>Senior Data Engineer</th>\n",
       "      <td>147500.0</td>\n",
       "      <td>61.500000</td>\n",
       "    </tr>\n",
       "    <tr>\n",
       "      <th>Senior Data Scientist</th>\n",
       "      <td>155500.0</td>\n",
       "      <td>47.620003</td>\n",
       "    </tr>\n",
       "    <tr>\n",
       "      <th>Software Engineer</th>\n",
       "      <td>99150.0</td>\n",
       "      <td>47.560001</td>\n",
       "    </tr>\n",
       "  </tbody>\n",
       "</table>\n",
       "</div>"
      ],
      "text/plain": [
       "                           salary_year_avg  salary_hour_avg\n",
       "job_title_short                                            \n",
       "Business Analyst                   85000.0        40.362499\n",
       "Cloud Engineer                     90000.0        40.000000\n",
       "Data Analyst                       90000.0        32.615002\n",
       "Data Engineer                     125000.0        58.500000\n",
       "Data Scientist                    127500.0        47.500000\n",
       "Machine Learning Engineer         106415.0        47.535000\n",
       "Senior Data Analyst               111175.0        47.500000\n",
       "Senior Data Engineer              147500.0        61.500000\n",
       "Senior Data Scientist             155500.0        47.620003\n",
       "Software Engineer                  99150.0        47.560001"
      ]
     },
     "execution_count": 63,
     "metadata": {},
     "output_type": "execute_result"
    }
   ],
   "source": [
    "df.groupby('job_title_short')[['salary_year_avg','salary_hour_avg']].median()"
   ]
  },
  {
   "cell_type": "code",
   "execution_count": 66,
   "id": "cfa70a70-0896-49b7-9cf3-7b88bc338929",
   "metadata": {},
   "outputs": [
    {
     "data": {
      "text/html": [
       "<div>\n",
       "<style scoped>\n",
       "    .dataframe tbody tr th:only-of-type {\n",
       "        vertical-align: middle;\n",
       "    }\n",
       "\n",
       "    .dataframe tbody tr th {\n",
       "        vertical-align: top;\n",
       "    }\n",
       "\n",
       "    .dataframe thead th {\n",
       "        text-align: right;\n",
       "    }\n",
       "</style>\n",
       "<table border=\"1\" class=\"dataframe\">\n",
       "  <thead>\n",
       "    <tr style=\"text-align: right;\">\n",
       "      <th></th>\n",
       "      <th>min</th>\n",
       "      <th>max</th>\n",
       "      <th>median</th>\n",
       "    </tr>\n",
       "    <tr>\n",
       "      <th>job_title_short</th>\n",
       "      <th></th>\n",
       "      <th></th>\n",
       "      <th></th>\n",
       "    </tr>\n",
       "  </thead>\n",
       "  <tbody>\n",
       "    <tr>\n",
       "      <th>Business Analyst</th>\n",
       "      <td>16500.0</td>\n",
       "      <td>387460.0</td>\n",
       "      <td>85000.0</td>\n",
       "    </tr>\n",
       "    <tr>\n",
       "      <th>Cloud Engineer</th>\n",
       "      <td>42000.0</td>\n",
       "      <td>280000.0</td>\n",
       "      <td>90000.0</td>\n",
       "    </tr>\n",
       "    <tr>\n",
       "      <th>Data Analyst</th>\n",
       "      <td>25000.0</td>\n",
       "      <td>650000.0</td>\n",
       "      <td>90000.0</td>\n",
       "    </tr>\n",
       "    <tr>\n",
       "      <th>Data Engineer</th>\n",
       "      <td>15000.0</td>\n",
       "      <td>525000.0</td>\n",
       "      <td>125000.0</td>\n",
       "    </tr>\n",
       "    <tr>\n",
       "      <th>Data Scientist</th>\n",
       "      <td>27000.0</td>\n",
       "      <td>960000.0</td>\n",
       "      <td>127500.0</td>\n",
       "    </tr>\n",
       "    <tr>\n",
       "      <th>Machine Learning Engineer</th>\n",
       "      <td>30000.0</td>\n",
       "      <td>325000.0</td>\n",
       "      <td>106415.0</td>\n",
       "    </tr>\n",
       "    <tr>\n",
       "      <th>Senior Data Analyst</th>\n",
       "      <td>30000.0</td>\n",
       "      <td>425000.0</td>\n",
       "      <td>111175.0</td>\n",
       "    </tr>\n",
       "    <tr>\n",
       "      <th>Senior Data Engineer</th>\n",
       "      <td>35000.0</td>\n",
       "      <td>425000.0</td>\n",
       "      <td>147500.0</td>\n",
       "    </tr>\n",
       "    <tr>\n",
       "      <th>Senior Data Scientist</th>\n",
       "      <td>45000.0</td>\n",
       "      <td>890000.0</td>\n",
       "      <td>155500.0</td>\n",
       "    </tr>\n",
       "    <tr>\n",
       "      <th>Software Engineer</th>\n",
       "      <td>28000.0</td>\n",
       "      <td>375000.0</td>\n",
       "      <td>99150.0</td>\n",
       "    </tr>\n",
       "  </tbody>\n",
       "</table>\n",
       "</div>"
      ],
      "text/plain": [
       "                               min       max    median\n",
       "job_title_short                                       \n",
       "Business Analyst           16500.0  387460.0   85000.0\n",
       "Cloud Engineer             42000.0  280000.0   90000.0\n",
       "Data Analyst               25000.0  650000.0   90000.0\n",
       "Data Engineer              15000.0  525000.0  125000.0\n",
       "Data Scientist             27000.0  960000.0  127500.0\n",
       "Machine Learning Engineer  30000.0  325000.0  106415.0\n",
       "Senior Data Analyst        30000.0  425000.0  111175.0\n",
       "Senior Data Engineer       35000.0  425000.0  147500.0\n",
       "Senior Data Scientist      45000.0  890000.0  155500.0\n",
       "Software Engineer          28000.0  375000.0   99150.0"
      ]
     },
     "execution_count": 66,
     "metadata": {},
     "output_type": "execute_result"
    }
   ],
   "source": [
    "df.groupby('job_title_short')['salary_year_avg'].agg(['min','max','median'])"
   ]
  }
 ],
 "metadata": {
  "kernelspec": {
   "display_name": "Python 3 (ipykernel)",
   "language": "python",
   "name": "python3"
  },
  "language_info": {
   "codemirror_mode": {
    "name": "ipython",
    "version": 3
   },
   "file_extension": ".py",
   "mimetype": "text/x-python",
   "name": "python",
   "nbconvert_exporter": "python",
   "pygments_lexer": "ipython3",
   "version": "3.11.5"
  }
 },
 "nbformat": 4,
 "nbformat_minor": 5
}
