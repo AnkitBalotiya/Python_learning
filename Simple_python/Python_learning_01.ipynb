{
 "cells": [
  {
   "cell_type": "code",
   "execution_count": 1,
   "id": "3c9badc2-58ad-402a-9307-50fd4b06926c",
   "metadata": {},
   "outputs": [
    {
     "data": {
      "text/plain": [
       "'hello'"
      ]
     },
     "execution_count": 1,
     "metadata": {},
     "output_type": "execute_result"
    }
   ],
   "source": [
    "'hello'"
   ]
  },
  {
   "cell_type": "code",
   "execution_count": 2,
   "id": "44f5af71-ab0b-41d0-8421-2bd42271d044",
   "metadata": {},
   "outputs": [
    {
     "name": "stdout",
     "output_type": "stream",
     "text": [
      "job name : data analyst \n",
      "job desc : Reporting and analysing\n",
      "job Salary : $300000\n"
     ]
    }
   ],
   "source": [
    "jobTitle = 'data analyst'\n",
    "job_desc = 'Reporting and analysing'\n",
    "job_salary = 300000\n",
    "print(f'job name : {jobTitle} \\njob desc : {job_desc}\\njob Salary : ${job_salary}')"
   ]
  },
  {
   "cell_type": "code",
   "execution_count": 3,
   "id": "b23cbbbf-fc4c-400a-9bc1-d2812ddf820e",
   "metadata": {},
   "outputs": [],
   "source": [
    "def jobDetials(title,desc,salary):\n",
    "    print(f'job name : {jobTitle} \\njob desc : {job_desc}\\njob Salary : ${job_salary}')"
   ]
  },
  {
   "cell_type": "code",
   "execution_count": 4,
   "id": "14b64c59-fabd-4a1b-85dc-abebd6ea9bd8",
   "metadata": {},
   "outputs": [
    {
     "name": "stdout",
     "output_type": "stream",
     "text": [
      "job name : data analyst \n",
      "job desc : Reporting and analysing\n",
      "job Salary : $300000\n"
     ]
    }
   ],
   "source": [
    "jobDetials(jobTitle,job_desc, job_salary)"
   ]
  },
  {
   "cell_type": "code",
   "execution_count": 5,
   "id": "1031cad5-ec9d-40fb-9ade-ce42f7292e86",
   "metadata": {},
   "outputs": [
    {
     "data": {
      "text/plain": [
       "str"
      ]
     },
     "execution_count": 5,
     "metadata": {},
     "output_type": "execute_result"
    }
   ],
   "source": [
    "type(jobTitle)"
   ]
  },
  {
   "cell_type": "code",
   "execution_count": 6,
   "id": "4558966a-4e73-457d-9786-cda2e1c99016",
   "metadata": {},
   "outputs": [
    {
     "data": {
      "text/plain": [
       "(2169863409904, 2169863237648)"
      ]
     },
     "execution_count": 6,
     "metadata": {},
     "output_type": "execute_result"
    }
   ],
   "source": [
    "id(jobTitle) ,  id(job_salary)"
   ]
  },
  {
   "cell_type": "code",
   "execution_count": 7,
   "id": "50296fad-2756-4cea-8f86-aefeb03d5c2a",
   "metadata": {},
   "outputs": [],
   "source": [
    "class JobPost:\n",
    "    def __init__(self,title,desc,salary):\n",
    "        self.title=title\n",
    "        self.desc=desc\n",
    "        self.salary = salary\n",
    "    def jobDetials(self):\n",
    "        print(f'job name : {self.title} \\njob desc : {self.desc}\\njob Salary : ${self.salary}')"
   ]
  },
  {
   "cell_type": "code",
   "execution_count": 8,
   "id": "302215ce-fff2-4160-a01a-d81a9cc73c3c",
   "metadata": {},
   "outputs": [
    {
     "name": "stdout",
     "output_type": "stream",
     "text": [
      "job name : data analyst \n",
      "job desc : Reporting and analysing\n",
      "job Salary : $300000\n"
     ]
    }
   ],
   "source": [
    "dataAnalystJob = JobPost(jobTitle,job_desc, job_salary)\n",
    "dataAnalystJob.title\n",
    "dataAnalystJob.jobDetials()\n"
   ]
  },
  {
   "cell_type": "code",
   "execution_count": 9,
   "id": "5ae4815c-23b0-4a87-861e-30dee1f0b06f",
   "metadata": {},
   "outputs": [
    {
     "name": "stdout",
     "output_type": "stream",
     "text": [
      "HELLO WORLD\n"
     ]
    },
    {
     "data": {
      "text/plain": [
       "'HELLO WORLD'"
      ]
     },
     "execution_count": 9,
     "metadata": {},
     "output_type": "execute_result"
    }
   ],
   "source": [
    "print(\"hello world\".upper())\n",
    "str.upper(\"hEllo world\")"
   ]
  },
  {
   "cell_type": "code",
   "execution_count": 10,
   "id": "0da4969f-d3ba-4e46-9fbe-60d44d20756b",
   "metadata": {},
   "outputs": [
    {
     "data": {
      "text/plain": [
       "'Data Nerds'"
      ]
     },
     "execution_count": 10,
     "metadata": {},
     "output_type": "execute_result"
    }
   ],
   "source": [
    "\"data nerds\".title()"
   ]
  },
  {
   "cell_type": "code",
   "execution_count": 11,
   "id": "26d71d34-267e-4905-9563-38f8068d0538",
   "metadata": {},
   "outputs": [
    {
     "data": {
      "text/plain": [
       "0.5"
      ]
     },
     "execution_count": 11,
     "metadata": {},
     "output_type": "execute_result"
    }
   ],
   "source": [
    "import statistics \n",
    "statistics.mean((0,1))\n"
   ]
  },
  {
   "cell_type": "code",
   "execution_count": 12,
   "id": "780f38e1-b5b2-40ba-bf26-55564688ab19",
   "metadata": {},
   "outputs": [
    {
     "name": "stdout",
     "output_type": "stream",
     "text": [
      "2023-05-12\n",
      "2023-05-12 00:00:00 \n",
      "\n",
      "2023-05-15 00:00:00 \n",
      "\n",
      "2023-05-10 00:00:00 \n",
      "\n",
      "2023-05-14 00:00:00 \n",
      "\n",
      "2023-05-18 00:00:00 \n",
      "\n",
      "2023-05-20 00:00:00 \n",
      "\n"
     ]
    },
    {
     "data": {
      "text/plain": [
       "str"
      ]
     },
     "execution_count": 12,
     "metadata": {},
     "output_type": "execute_result"
    }
   ],
   "source": [
    "data_science_jobs = [\n",
    "    {'job_title': 'Data Scientist', 'job_skills': \"['Python', 'SQL', 'Machine Learning']\", 'job_date': '2023-05-12'},\n",
    "    {'job_title': 'Machine Learning Engineer', 'job_skills':\" ['Python', 'TensorFlow', 'Deep Learning']\", 'job_date': '2023-05-15'},\n",
    "    {'job_title': 'Data Analyst', 'job_skills': \"['SQL', 'R', 'Tableau']\", 'job_date': '2023-05-10'},\n",
    "    {'job_title': 'Business Intelligence Developer', 'job_skills': \"['SQL', 'PowerBI', 'Data Warehousing']\", 'job_date': '2023-05-14'},\n",
    "    {'job_title': 'Data Engineer', 'job_skills': \"['Python', 'Spark', 'Hadoop']\", 'job_date': '2023-05-18'},\n",
    "    {'job_title': 'AI Specialist', 'job_skills': \"['Python', 'PyTorch', 'AI Ethics']\", 'job_date': '2023-05-20'}\n",
    "]\n",
    "\n",
    "from datetime import datetime\n",
    "test_date = data_science_jobs[0]['job_date']\n",
    "print(test_date)\n",
    "datetime.strptime(test_date,'%Y-%m-%d')\n",
    "\n",
    "    \n",
    "for job in data_science_jobs :\n",
    "    job['job_date'] = datetime.strptime(job['job_date'],'%Y-%m-%d')\n",
    "    # print(job['job_date'],'\\n')\n",
    "\n",
    "for job in data_science_jobs :\n",
    "    print(job['job_date'],'\\n')\n",
    "type(data_science_jobs[0]['job_skills'])\n"
   ]
  },
  {
   "cell_type": "code",
   "execution_count": 13,
   "id": "778b5ed5-c377-4b62-b787-b2c27d1aba90",
   "metadata": {},
   "outputs": [],
   "source": [
    "import ast \n",
    "for job in data_science_jobs:\n",
    "    job['job_skills'] =  ast.literal_eval(job['job_skills'])"
   ]
  },
  {
   "cell_type": "code",
   "execution_count": 14,
   "id": "595ed9a5-fa94-44c8-b95b-f42f3d634636",
   "metadata": {},
   "outputs": [
    {
     "data": {
      "text/plain": [
       "list"
      ]
     },
     "execution_count": 14,
     "metadata": {},
     "output_type": "execute_result"
    }
   ],
   "source": [
    "type(data_science_jobs[0]['job_skills'])\n"
   ]
  },
  {
   "cell_type": "code",
   "execution_count": 15,
   "id": "329bee1a-73d9-48d3-86cd-6460ab076a41",
   "metadata": {},
   "outputs": [
    {
     "data": {
      "text/plain": [
       "True"
      ]
     },
     "execution_count": 15,
     "metadata": {},
     "output_type": "execute_result"
    }
   ],
   "source": [
    "import pandas as pd\n",
    "contents =  pd.read_csv('C:/Users/Ankit/Desktop/imdb_tvshows.csv')\n",
    "sum(contents['Unnamed: 0'])\n",
    "\n",
    "listOf =!pip list\n",
    "'pandas                    2.2.3' in listOf\n"
   ]
  },
  {
   "cell_type": "code",
   "execution_count": 16,
   "id": "05ade762-2a84-494d-9af4-9ba1a1e9d240",
   "metadata": {},
   "outputs": [
    {
     "data": {
      "text/plain": [
       "'1,000,000'"
      ]
     },
     "execution_count": 16,
     "metadata": {},
     "output_type": "execute_result"
    }
   ],
   "source": [
    "value = 1000\n",
    "f'{1000000:,.0f}'"
   ]
  },
  {
   "cell_type": "code",
   "execution_count": 29,
   "id": "59b38827-ecab-4fa3-81fa-32e6337b7586",
   "metadata": {},
   "outputs": [
    {
     "name": "stdout",
     "output_type": "stream",
     "text": [
      "41.3 ms ± 1.86 ms per loop (mean ± std. dev. of 7 runs, 10 loops each)\n"
     ]
    }
   ],
   "source": [
    "%%timeit\n",
    "import random\n",
    "salary_list = [ random.randint(50000,100000) for i in range(100_000) ]\n",
    "len(salary_list)\n"
   ]
  },
  {
   "cell_type": "code",
   "execution_count": 34,
   "id": "d9bf5e58-7913-4975-8d52-784d56202466",
   "metadata": {},
   "outputs": [
    {
     "name": "stdout",
     "output_type": "stream",
     "text": [
      "17.7 ms ± 193 µs per loop (mean ± std. dev. of 7 runs, 100 loops each)\n"
     ]
    }
   ],
   "source": [
    "%%timeit\n",
    "import statistics \n",
    "statistics.mean(salary_list)"
   ]
  },
  {
   "cell_type": "code",
   "execution_count": 39,
   "id": "ce016066-56f8-4fb6-903f-75128b932336",
   "metadata": {},
   "outputs": [],
   "source": [
    "import numpy as np\n"
   ]
  },
  {
   "cell_type": "code",
   "execution_count": 41,
   "id": "c9405ecd-8ca4-41ba-b462-bb4132c1402b",
   "metadata": {},
   "outputs": [
    {
     "name": "stdout",
     "output_type": "stream",
     "text": [
      "3.05 ms ± 77 µs per loop (mean ± std. dev. of 7 runs, 100 loops each)\n"
     ]
    }
   ],
   "source": [
    "%%timeit\n",
    "np.mean(salary_list)"
   ]
  },
  {
   "cell_type": "code",
   "execution_count": 93,
   "id": "51b71971-7883-48ec-87e9-c1cf70e7b86b",
   "metadata": {},
   "outputs": [
    {
     "data": {
      "text/plain": [
       "81533.69333333334"
      ]
     },
     "execution_count": 93,
     "metadata": {},
     "output_type": "execute_result"
    }
   ],
   "source": [
    "total_salaries = base_salary * (1+ bonus_rate)\n",
    "total_salaries\n",
    "np.nanmean(total_salaries)"
   ]
  },
  {
   "cell_type": "code",
   "execution_count": 87,
   "id": "2ac11956-7ab8-4352-92f7-95029be7ea12",
   "metadata": {},
   "outputs": [
    {
     "data": {
      "text/plain": [
       "(array([0.14, 0.2 , 0.1 ,  nan]), array([67062., 80080., 65504.,    nan]))"
      ]
     },
     "execution_count": 87,
     "metadata": {},
     "output_type": "execute_result"
    }
   ],
   "source": [
    "import numpy as np\n",
    "job_title =  np.array(['Data Analyst','Data Engineer','Business Intelligence Developer','AI Specialist'])\n",
    "base_salary = np.array([67062, 80080, 65504,np.nan])\n",
    "bonus_rate = np.array([0.14, 0.2 , 0.1 ,np.nan ])\n",
    "bonus_rate , base_salary\n"
   ]
  },
  {
   "cell_type": "code",
   "execution_count": 92,
   "id": "39bc7897-3fff-436f-a498-6d3635bcba54",
   "metadata": {},
   "outputs": [
    {
     "data": {
      "text/plain": [
       "81533.69333333334"
      ]
     },
     "execution_count": 92,
     "metadata": {},
     "output_type": "execute_result"
    }
   ],
   "source": [
    "np.nanmean(total_salaries)"
   ]
  }
 ],
 "metadata": {
  "kernelspec": {
   "display_name": "Python 3 (ipykernel)",
   "language": "python",
   "name": "python3"
  },
  "language_info": {
   "codemirror_mode": {
    "name": "ipython",
    "version": 3
   },
   "file_extension": ".py",
   "mimetype": "text/x-python",
   "name": "python",
   "nbconvert_exporter": "python",
   "pygments_lexer": "ipython3",
   "version": "3.11.5"
  }
 },
 "nbformat": 4,
 "nbformat_minor": 5
}
