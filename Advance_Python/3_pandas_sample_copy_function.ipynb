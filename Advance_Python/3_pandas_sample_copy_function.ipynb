{
 "cells": [
  {
   "cell_type": "code",
   "execution_count": 2,
   "id": "10b5c0d9",
   "metadata": {},
   "outputs": [
    {
     "name": "stdout",
     "output_type": "stream",
     "text": [
      "<class 'pandas.core.frame.DataFrame'>\n",
      "RangeIndex: 785741 entries, 0 to 785740\n",
      "Data columns (total 17 columns):\n",
      " #   Column                 Non-Null Count   Dtype         \n",
      "---  ------                 --------------   -----         \n",
      " 0   job_title_short        785741 non-null  object        \n",
      " 1   job_title              785740 non-null  object        \n",
      " 2   job_location           784696 non-null  object        \n",
      " 3   job_via                785733 non-null  object        \n",
      " 4   job_schedule_type      773074 non-null  object        \n",
      " 5   job_work_from_home     785741 non-null  bool          \n",
      " 6   search_location        785741 non-null  object        \n",
      " 7   job_posted_date        785741 non-null  datetime64[ns]\n",
      " 8   job_no_degree_mention  785741 non-null  bool          \n",
      " 9   job_health_insurance   785741 non-null  bool          \n",
      " 10  job_country            785692 non-null  object        \n",
      " 11  salary_rate            33067 non-null   object        \n",
      " 12  salary_year_avg        22003 non-null   float64       \n",
      " 13  salary_hour_avg        10662 non-null   float64       \n",
      " 14  company_name           785723 non-null  object        \n",
      " 15  job_skills             668704 non-null  object        \n",
      " 16  job_type_skills        668704 non-null  object        \n",
      "dtypes: bool(3), datetime64[ns](1), float64(2), object(11)\n",
      "memory usage: 86.2+ MB\n"
     ]
    }
   ],
   "source": [
    "# sample and copy method\n",
    "\n",
    "import pandas as pd\n",
    "from datasets import load_dataset\n",
    "import matplotlib.pyplot as plt\n",
    "\n",
    "dataset = load_dataset('lukebarousse/data_jobs')\n",
    "df = dataset['train'].to_pandas()\n",
    "df['job_posted_date'] = pd.to_datetime(df['job_posted_date'])\n",
    "df.info()"
   ]
  },
  {
   "cell_type": "code",
   "execution_count": 14,
   "id": "8649d49b",
   "metadata": {},
   "outputs": [
    {
     "data": {
      "text/html": [
       "<div>\n",
       "<style scoped>\n",
       "    .dataframe tbody tr th:only-of-type {\n",
       "        vertical-align: middle;\n",
       "    }\n",
       "\n",
       "    .dataframe tbody tr th {\n",
       "        vertical-align: top;\n",
       "    }\n",
       "\n",
       "    .dataframe thead th {\n",
       "        text-align: right;\n",
       "    }\n",
       "</style>\n",
       "<table border=\"1\" class=\"dataframe\">\n",
       "  <thead>\n",
       "    <tr style=\"text-align: right;\">\n",
       "      <th></th>\n",
       "      <th>job_title_short</th>\n",
       "      <th>job_title</th>\n",
       "      <th>job_location</th>\n",
       "      <th>job_via</th>\n",
       "      <th>job_schedule_type</th>\n",
       "      <th>job_work_from_home</th>\n",
       "      <th>search_location</th>\n",
       "      <th>job_posted_date</th>\n",
       "      <th>job_no_degree_mention</th>\n",
       "      <th>job_health_insurance</th>\n",
       "      <th>job_country</th>\n",
       "      <th>salary_rate</th>\n",
       "      <th>salary_year_avg</th>\n",
       "      <th>salary_hour_avg</th>\n",
       "      <th>company_name</th>\n",
       "      <th>job_skills</th>\n",
       "      <th>job_type_skills</th>\n",
       "    </tr>\n",
       "  </thead>\n",
       "  <tbody>\n",
       "    <tr>\n",
       "      <th>427443</th>\n",
       "      <td>Data Engineer</td>\n",
       "      <td>Data Engineer (FT; Multiple Openings)</td>\n",
       "      <td>Dallas, TX</td>\n",
       "      <td>via KTAL News Jobs</td>\n",
       "      <td>Full-time</td>\n",
       "      <td>False</td>\n",
       "      <td>California, United States</td>\n",
       "      <td>2023-06-03 16:05:32</td>\n",
       "      <td>False</td>\n",
       "      <td>False</td>\n",
       "      <td>United States</td>\n",
       "      <td>None</td>\n",
       "      <td>NaN</td>\n",
       "      <td>NaN</td>\n",
       "      <td>RingCentral, Inc.</td>\n",
       "      <td>['mongodb', 'mongodb', 'python', 'sql', 'java'...</td>\n",
       "      <td>{'cloud': ['redshift', 'oracle'], 'databases':...</td>\n",
       "    </tr>\n",
       "    <tr>\n",
       "      <th>300182</th>\n",
       "      <td>Data Engineer</td>\n",
       "      <td>Data Engineer</td>\n",
       "      <td>Anywhere</td>\n",
       "      <td>via LinkedIn</td>\n",
       "      <td>Full-time</td>\n",
       "      <td>True</td>\n",
       "      <td>Sudan</td>\n",
       "      <td>2023-09-26 17:18:47</td>\n",
       "      <td>False</td>\n",
       "      <td>False</td>\n",
       "      <td>Sudan</td>\n",
       "      <td>None</td>\n",
       "      <td>NaN</td>\n",
       "      <td>NaN</td>\n",
       "      <td>Blueriver</td>\n",
       "      <td>['javascript', 'c#', 'rust', 'c++', 'html', 'c...</td>\n",
       "      <td>{'libraries': ['react'], 'os': ['linux', 'wind...</td>\n",
       "    </tr>\n",
       "    <tr>\n",
       "      <th>775146</th>\n",
       "      <td>Data Analyst</td>\n",
       "      <td>data analyst/ spotfire</td>\n",
       "      <td>Issy-les-Moulineaux, France</td>\n",
       "      <td>via BeBee</td>\n",
       "      <td>Full-time</td>\n",
       "      <td>False</td>\n",
       "      <td>France</td>\n",
       "      <td>2023-07-23 01:23:05</td>\n",
       "      <td>True</td>\n",
       "      <td>False</td>\n",
       "      <td>France</td>\n",
       "      <td>None</td>\n",
       "      <td>NaN</td>\n",
       "      <td>NaN</td>\n",
       "      <td>GROUPE ARTEMYS - AMONTECH - ARCARTEM</td>\n",
       "      <td>['vue', 'jira']</td>\n",
       "      <td>{'async': ['jira'], 'webframeworks': ['vue']}</td>\n",
       "    </tr>\n",
       "  </tbody>\n",
       "</table>\n",
       "</div>"
      ],
      "text/plain": [
       "       job_title_short                              job_title  \\\n",
       "427443   Data Engineer  Data Engineer (FT; Multiple Openings)   \n",
       "300182   Data Engineer                          Data Engineer   \n",
       "775146    Data Analyst                 data analyst/ spotfire   \n",
       "\n",
       "                       job_location             job_via job_schedule_type  \\\n",
       "427443                   Dallas, TX  via KTAL News Jobs         Full-time   \n",
       "300182                     Anywhere        via LinkedIn         Full-time   \n",
       "775146  Issy-les-Moulineaux, France           via BeBee         Full-time   \n",
       "\n",
       "        job_work_from_home            search_location     job_posted_date  \\\n",
       "427443               False  California, United States 2023-06-03 16:05:32   \n",
       "300182                True                      Sudan 2023-09-26 17:18:47   \n",
       "775146               False                     France 2023-07-23 01:23:05   \n",
       "\n",
       "        job_no_degree_mention  job_health_insurance    job_country  \\\n",
       "427443                  False                 False  United States   \n",
       "300182                  False                 False          Sudan   \n",
       "775146                   True                 False         France   \n",
       "\n",
       "       salary_rate  salary_year_avg  salary_hour_avg  \\\n",
       "427443        None              NaN              NaN   \n",
       "300182        None              NaN              NaN   \n",
       "775146        None              NaN              NaN   \n",
       "\n",
       "                                company_name  \\\n",
       "427443                     RingCentral, Inc.   \n",
       "300182                             Blueriver   \n",
       "775146  GROUPE ARTEMYS - AMONTECH - ARCARTEM   \n",
       "\n",
       "                                               job_skills  \\\n",
       "427443  ['mongodb', 'mongodb', 'python', 'sql', 'java'...   \n",
       "300182  ['javascript', 'c#', 'rust', 'c++', 'html', 'c...   \n",
       "775146                                    ['vue', 'jira']   \n",
       "\n",
       "                                          job_type_skills  \n",
       "427443  {'cloud': ['redshift', 'oracle'], 'databases':...  \n",
       "300182  {'libraries': ['react'], 'os': ['linux', 'wind...  \n",
       "775146      {'async': ['jira'], 'webframeworks': ['vue']}  "
      ]
     },
     "execution_count": 14,
     "metadata": {},
     "output_type": "execute_result"
    }
   ],
   "source": [
    "df.sample(3)"
   ]
  },
  {
   "cell_type": "code",
   "execution_count": 11,
   "id": "8f21177e",
   "metadata": {},
   "outputs": [
    {
     "data": {
      "text/plain": [
       "True"
      ]
     },
     "execution_count": 11,
     "metadata": {},
     "output_type": "execute_result"
    }
   ],
   "source": [
    "df_assignment_opp = df\n",
    "id(df_assignment_opp) == id(df)\n"
   ]
  },
  {
   "cell_type": "code",
   "execution_count": 13,
   "id": "c0817ccc",
   "metadata": {},
   "outputs": [
    {
     "data": {
      "text/plain": [
       "False"
      ]
     },
     "execution_count": 13,
     "metadata": {},
     "output_type": "execute_result"
    }
   ],
   "source": [
    "df_copy  = df.copy()\n",
    "id(df_copy) == id(df)"
   ]
  }
 ],
 "metadata": {
  "kernelspec": {
   "display_name": "python_learning",
   "language": "python",
   "name": "python3"
  },
  "language_info": {
   "codemirror_mode": {
    "name": "ipython",
    "version": 3
   },
   "file_extension": ".py",
   "mimetype": "text/x-python",
   "name": "python",
   "nbconvert_exporter": "python",
   "pygments_lexer": "ipython3",
   "version": "3.13.5"
  }
 },
 "nbformat": 4,
 "nbformat_minor": 5
}
