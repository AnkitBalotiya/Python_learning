{
 "cells": [
  {
   "cell_type": "code",
   "execution_count": 2,
   "id": "d3343410",
   "metadata": {},
   "outputs": [
    {
     "name": "stdout",
     "output_type": "stream",
     "text": [
      "<class 'pandas.core.frame.DataFrame'>\n",
      "RangeIndex: 785741 entries, 0 to 785740\n",
      "Data columns (total 17 columns):\n",
      " #   Column                 Non-Null Count   Dtype         \n",
      "---  ------                 --------------   -----         \n",
      " 0   job_title_short        785741 non-null  object        \n",
      " 1   job_title              785740 non-null  object        \n",
      " 2   job_location           784696 non-null  object        \n",
      " 3   job_via                785733 non-null  object        \n",
      " 4   job_schedule_type      773074 non-null  object        \n",
      " 5   job_work_from_home     785741 non-null  bool          \n",
      " 6   search_location        785741 non-null  object        \n",
      " 7   job_posted_date        785741 non-null  datetime64[ns]\n",
      " 8   job_no_degree_mention  785741 non-null  bool          \n",
      " 9   job_health_insurance   785741 non-null  bool          \n",
      " 10  job_country            785692 non-null  object        \n",
      " 11  salary_rate            33067 non-null   object        \n",
      " 12  salary_year_avg        22003 non-null   float64       \n",
      " 13  salary_hour_avg        10662 non-null   float64       \n",
      " 14  company_name           785723 non-null  object        \n",
      " 15  job_skills             668704 non-null  object        \n",
      " 16  job_type_skills        668704 non-null  object        \n",
      "dtypes: bool(3), datetime64[ns](1), float64(2), object(11)\n",
      "memory usage: 86.2+ MB\n"
     ]
    }
   ],
   "source": [
    "# 5_monthly_job_posting_for_India\n",
    "\n",
    "import pandas as pd\n",
    "from datasets import load_dataset\n",
    "import matplotlib.pyplot as plt\n",
    "\n",
    "dataset = load_dataset('lukebarousse/data_jobs')\n",
    "df = dataset['train'].to_pandas()\n",
    "df['job_posted_date'] = pd.to_datetime(df['job_posted_date'])\n",
    "df.info()"
   ]
  },
  {
   "cell_type": "code",
   "execution_count": 2,
   "id": "96a6c46b",
   "metadata": {},
   "outputs": [],
   "source": [
    "df['job_posted_month'] = df['job_posted_date'].dt.strftime('%b')\n",
    "# df = df.sort_values(by='job_posted_month')\n",
    "months = df['job_posted_month'].unique()\n",
    "\n",
    "dict_months = {month : df[(df['job_posted_month'] == month )] for month in months} \n",
    "\n",
    "\n"
   ]
  },
  {
   "cell_type": "code",
   "execution_count": 3,
   "id": "55f05b97",
   "metadata": {},
   "outputs": [],
   "source": [
    "df_Quater_1 = pd.concat([dict_months['Jan'],dict_months['Feb'],dict_months['Mar']])\n"
   ]
  },
  {
   "cell_type": "code",
   "execution_count": 4,
   "id": "b140d411",
   "metadata": {},
   "outputs": [],
   "source": [
    "# df_Quater_1.head(10).to_clipboard(sep=None)"
   ]
  },
  {
   "cell_type": "code",
   "execution_count": 5,
   "id": "d8f3f5b3",
   "metadata": {},
   "outputs": [],
   "source": [
    "# df_Quater_1.to_csv('example.csv')"
   ]
  },
  {
   "cell_type": "code",
   "execution_count": 6,
   "id": "f31581bb",
   "metadata": {},
   "outputs": [],
   "source": [
    "# pd.read_csv('example.csv',index_col=0).head(10)"
   ]
  },
  {
   "cell_type": "code",
   "execution_count": 1,
   "id": "0571c3ab",
   "metadata": {},
   "outputs": [
    {
     "ename": "NameError",
     "evalue": "name 'df_Quater_1' is not defined",
     "output_type": "error",
     "traceback": [
      "\u001b[31m---------------------------------------------------------------------------\u001b[39m",
      "\u001b[31mNameError\u001b[39m                                 Traceback (most recent call last)",
      "\u001b[36mCell\u001b[39m\u001b[36m \u001b[39m\u001b[32mIn[1]\u001b[39m\u001b[32m, line 17\u001b[39m\n\u001b[32m     10\u001b[39m \u001b[38;5;66;03m# # MySQL connection (replace with your password)\u001b[39;00m\n\u001b[32m     11\u001b[39m \u001b[38;5;66;03m# user = \"root\"\u001b[39;00m\n\u001b[32m     12\u001b[39m \u001b[38;5;66;03m# password = \"root\"  # the same one from your MySQL Workbench prompt\u001b[39;00m\n\u001b[32m     13\u001b[39m \u001b[38;5;66;03m# host = \"localhost\"\u001b[39;00m\n\u001b[32m     14\u001b[39m \u001b[38;5;66;03m# database = \"data_jobs_db\"\u001b[39;00m\n\u001b[32m     16\u001b[39m engine = create_engine(\u001b[33mf\u001b[39m\u001b[33m'\u001b[39m\u001b[33mmysql+pymysql://\u001b[39m\u001b[38;5;132;01m{\u001b[39;00muser\u001b[38;5;132;01m}\u001b[39;00m\u001b[33m:\u001b[39m\u001b[38;5;132;01m{\u001b[39;00mpassword\u001b[38;5;132;01m}\u001b[39;00m\u001b[33m@\u001b[39m\u001b[38;5;132;01m{\u001b[39;00mhost\u001b[38;5;132;01m}\u001b[39;00m\u001b[33m/\u001b[39m\u001b[38;5;132;01m{\u001b[39;00mdatabase\u001b[38;5;132;01m}\u001b[39;00m\u001b[33m'\u001b[39m)\n\u001b[32m---> \u001b[39m\u001b[32m17\u001b[39m \u001b[43mdf_Quater_1\u001b[49m.to_sql(\u001b[33m'\u001b[39m\u001b[33mdata_jobs_Quater_1\u001b[39m\u001b[33m'\u001b[39m, con=engine,if_exists=\u001b[33m\"\u001b[39m\u001b[33mreplace\u001b[39m\u001b[33m\"\u001b[39m,index=\u001b[38;5;28;01mTrue\u001b[39;00m)\n\u001b[32m     18\u001b[39m \u001b[38;5;66;03m# # Create connection using SQLAlchemy\u001b[39;00m\n\u001b[32m     19\u001b[39m \u001b[38;5;66;03m# engine = create_engine(f\"mysql+pymysql://{user}:{password}@{host}/{database}\")\u001b[39;00m\n\u001b[32m     20\u001b[39m \u001b[38;5;66;03m# # Write DataFrame to SQL table\u001b[39;00m\n\u001b[32m     21\u001b[39m \u001b[38;5;66;03m# df.to_sql(\"data_jobs_table\", con=engine, if_exists=\"replace\", index=True)\u001b[39;00m\n\u001b[32m     22\u001b[39m \n\u001b[32m     23\u001b[39m \u001b[38;5;66;03m# print(\"DataFrame successfully written to MySQL!\")\u001b[39;00m\n",
      "\u001b[31mNameError\u001b[39m: name 'df_Quater_1' is not defined"
     ]
    }
   ],
   "source": [
    "import pandas as pd\n",
    "from sqlalchemy import create_engine\n",
    "\n",
    "# df_Quater_1\n",
    "\n",
    "user  ='root'\n",
    "password  ='root'\n",
    "host  ='localhost'\n",
    "database  ='data_jobs_db'\n",
    "# # MySQL connection (replace with your password)\n",
    "# user = \"root\"\n",
    "# password = \"root\"  # the same one from your MySQL Workbench prompt\n",
    "# host = \"localhost\"\n",
    "# database = \"data_jobs_db\"\n",
    "\n",
    "engine = create_engine(f'mysql+pymysql://{user}:{password}@{host}/{database}')\n",
    "df_Quater_1.to_sql('data_jobs_Quater_1', con=engine,if_exists=\"replace\",index=True)\n",
    "# # Create connection using SQLAlchemy\n",
    "# engine = create_engine(f\"mysql+pymysql://{user}:{password}@{host}/{database}\")\n",
    "# # Write DataFrame to SQL table\n",
    "# df.to_sql(\"data_jobs_table\", con=engine, if_exists=\"replace\", index=True)\n",
    "\n",
    "# print(\"DataFrame successfully written to MySQL!\")\n"
   ]
  },
  {
   "cell_type": "code",
   "execution_count": 15,
   "id": "3d2530b8",
   "metadata": {},
   "outputs": [],
   "source": [
    "import pandas as pd\n",
    "import sqlite3\n",
    "\n",
    "# Example DataFrame\n",
    "df = pd.DataFrame({\n",
    "    'name': ['Alice', 'Bob', 'Charlie'],\n",
    "    'age': [25, 30, 35]\n",
    "})\n",
    "\n",
    "# Connect to SQLite database (creates file if it doesn't exist)\n",
    "conn = sqlite3.connect('jobs.db')\n",
    "\n",
    "# Export DataFrame to SQL\n",
    "df.to_sql(\n",
    "    name='people',       # table name\n",
    "    con=conn,            # connection object\n",
    "    if_exists='replace', # replace table if it exists (or use 'append')\n",
    "    index=False          # don't write DataFrame index\n",
    ")\n",
    "\n",
    "# Close connection\n",
    "conn.close()\n"
   ]
  }
 ],
 "metadata": {
  "kernelspec": {
   "display_name": "python_learning",
   "language": "python",
   "name": "python3"
  },
  "language_info": {
   "codemirror_mode": {
    "name": "ipython",
    "version": 3
   },
   "file_extension": ".py",
   "mimetype": "text/x-python",
   "name": "python",
   "nbconvert_exporter": "python",
   "pygments_lexer": "ipython3",
   "version": "3.13.5"
  }
 },
 "nbformat": 4,
 "nbformat_minor": 5
}
